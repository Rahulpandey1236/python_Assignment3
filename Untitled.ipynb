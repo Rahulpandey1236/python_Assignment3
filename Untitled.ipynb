{
 "cells": [
  {
   "cell_type": "code",
   "execution_count": 1,
   "id": "92faea27-8553-4751-a04d-a202f9fd8fba",
   "metadata": {},
   "outputs": [],
   "source": [
    "#1.write a code to read the contents of a file\n",
    "\n",
    "file = open(\"file.txt\", \"w\")\n",
    "file.write(\"Hello, this is my first line\")\n",
    "file.close()"
   ]
  },
  {
   "cell_type": "code",
   "execution_count": null,
   "id": "47c0b53f-2845-4f16-8baf-434cc0cccce0",
   "metadata": {},
   "outputs": [],
   "source": []
  }
 ],
 "metadata": {
  "kernelspec": {
   "display_name": "Python 3 (ipykernel)",
   "language": "python",
   "name": "python3"
  },
  "language_info": {
   "codemirror_mode": {
    "name": "ipython",
    "version": 3
   },
   "file_extension": ".py",
   "mimetype": "text/x-python",
   "name": "python",
   "nbconvert_exporter": "python",
   "pygments_lexer": "ipython3",
   "version": "3.10.8"
  }
 },
 "nbformat": 4,
 "nbformat_minor": 5
}
