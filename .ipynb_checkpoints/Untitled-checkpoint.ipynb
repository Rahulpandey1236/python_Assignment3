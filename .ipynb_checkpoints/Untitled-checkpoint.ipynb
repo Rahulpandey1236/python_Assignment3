{
 "cells": [
  {
   "cell_type": "code",
   "execution_count": null,
   "id": "92faea27-8553-4751-a04d-a202f9fd8fba",
   "metadata": {},
   "outputs": [],
   "source": [
    "#1.write a code to read the contents of a file\n",
    "\n"
   ]
  }
 ],
 "metadata": {
  "kernelspec": {
   "display_name": "Python 3 (ipykernel)",
   "language": "python",
   "name": "python3"
  },
  "language_info": {
   "codemirror_mode": {
    "name": "ipython",
    "version": 3
   },
   "file_extension": ".py",
   "mimetype": "text/x-python",
   "name": "python",
   "nbconvert_exporter": "python",
   "pygments_lexer": "ipython3",
   "version": "3.10.8"
  }
 },
 "nbformat": 4,
 "nbformat_minor": 5
}
