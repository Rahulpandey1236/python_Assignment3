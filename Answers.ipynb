{
 "cells": [
  {
   "cell_type": "code",
   "execution_count": 15,
   "id": "9ff824cc-928c-4d7a-beea-afba95e6c0e2",
   "metadata": {},
   "outputs": [
    {
     "name": "stdout",
     "output_type": "stream",
     "text": [
      "hi,this is my first line of code\n",
      "\n",
      "this is my second line of code:\n"
     ]
    }
   ],
   "source": [
    "#1. write a code to read the content of a file\n",
    "    \n",
    "file = open(\"file.txt\",\"r\")\n",
    "for i in file:\n",
    "    print(i)"
   ]
  },
  {
   "cell_type": "code",
   "execution_count": 11,
   "id": "de30bb10-6aa9-4e6e-9784-766125ace41a",
   "metadata": {},
   "outputs": [],
   "source": [
    "#2.write a code to write a file in python \n",
    "file = open(\"file.txt\",\"w\")\n",
    "file.write(\"hi,this is my first line of code\")\n",
    "file.close()"
   ]
  },
  {
   "cell_type": "code",
   "execution_count": 12,
   "id": "1fe649d7-99b3-4676-819f-47daf86703d5",
   "metadata": {},
   "outputs": [],
   "source": [
    "#3.write a code to append a file in python\n",
    "file = open(\"file.txt\",\"a\")\n",
    "file.write(\"this is my second line of code:\")\n",
    "file.close()"
   ]
  },
  {
   "cell_type": "code",
   "execution_count": 17,
   "id": "f404a35f-07da-4944-8240-8ad93db9b925",
   "metadata": {},
   "outputs": [
    {
     "name": "stdout",
     "output_type": "stream",
     "text": [
      "<class 'bytes'>\n",
      "b'hi,this is my first line of code\\nthis is my second line of code:'\n"
     ]
    }
   ],
   "source": [
    "#4.write a code to read a binary file in python.\n",
    "f = open(\"file.txt\", mode=\"rb\")\n",
    "data = f.read()\n",
    "print(type(data))\n",
    "print(data)\n",
    "f.close()\n"
   ]
  },
  {
   "cell_type": "code",
   "execution_count": 22,
   "id": "ba325600-e561-4bcf-8a88-9bf908f2fde9",
   "metadata": {},
   "outputs": [],
   "source": [
    "#5.what happens if we dont use 'with' keyword with 'open' in python?\n",
    "#using 'with'\n",
    "\n",
    "with open('file.txt', 'r') as file:\n",
    "    content = file.read()\n",
    "# The file is automatically closed here, even if an error occurs\n",
    "\n",
    "#Without Using with\n",
    "file = open('file.txt', 'r')\n",
    "try:\n",
    "    content = file.read()\n",
    "finally:\n",
    "    file.close()  # You need to manually ensure the file is closed\n",
    "\n"
   ]
  },
  {
   "cell_type": "code",
   "execution_count": 23,
   "id": "a5e9247d-87ea-47dd-b9a0-fc7f2248002c",
   "metadata": {},
   "outputs": [],
   "source": [
    "#6.explain the concept of buffering in file handling and how it helps in improving read and write operations.\n",
    "\n",
    "\n",
    "# Buffering in file handling is a technique used to optimize the efficiency of reading from and writing to files. \n",
    "# It involves temporarily storing data in a buffer, which is a block of memory, before it is actually read from or \n",
    "# written to a file. This helps to reduce the number of I/O operations, which can be relatively slow, by grouping\n",
    "# many smaller operations into fewer larger ones"
   ]
  },
  {
   "cell_type": "code",
   "execution_count": 27,
   "id": "7635dc32-1d15-48d3-b624-e50627f02599",
   "metadata": {},
   "outputs": [],
   "source": [
    "#7.Describe the step involved in implementing bufferd file handling in a programming language of your choise.\n",
    "\n",
    "#first we import the buffred module with import io\n",
    "#then we open a file in any mode like write binary\n",
    "#then we make a object of buferd file\n",
    "#and then we can write into a file using io.BufferedWriter()"
   ]
  },
  {
   "cell_type": "code",
   "execution_count": 1,
   "id": "fabad34d-652e-4b52-a706-db7b7f33df55",
   "metadata": {},
   "outputs": [
    {
     "name": "stdout",
     "output_type": "stream",
     "text": [
      "b'A computer is a machine that can be programmed to automatically carry out sequences of arithmetic or'\n"
     ]
    }
   ],
   "source": [
    "#8.write a python function to read a bufferd file \n",
    "import io\n",
    "with open(\"test_buf.txt\", \"wb\") as f:\n",
    "    file = io.BufferedWriter(f)\n",
    "    file.write(b\"A computer is a machine that can be programmed to automatically carry out sequences of arithmetic or logical operations (computation). Modern digital electronic computers can perform generic sets of operations known as programs. These programs enable computers to perform a wide range of tasks. The term computer system may refer to a nominally complete computer that includes the hardware, operating system, software, and peripheral equipment needed and used for full operation; or to a group of computers that are linked and function together, such as a computer network or computer cluster.\")\n",
    "    file.write(b\"hello\")\n",
    "    file.write(b\"I am good\")\n",
    "    file.flush()\n",
    "    \n",
    "with open(\"test_buf.txt\", \"rb\") as f:\n",
    "    file = io.BufferedReader(f)\n",
    "    data = file.read(100) #100 bytes\n",
    "    print(data)"
   ]
  },
  {
   "cell_type": "code",
   "execution_count": 2,
   "id": "a9957f77-8911-4caa-bf2c-87e1ca8716dc",
   "metadata": {},
   "outputs": [],
   "source": [
    "#9.what are the advantage of using bufferd reading over direct file reading in python?\n",
    "#1. Improved Performance\n",
    "#Efficient Resource Usage\n",
    "#Reduced Latency\n",
    "#Flexibilty in data handling\n",
    "#Improved Readability and Maintainability"
   ]
  },
  {
   "cell_type": "code",
   "execution_count": 3,
   "id": "021275be-4123-49d3-93e5-9f58f640f81e",
   "metadata": {},
   "outputs": [
    {
     "name": "stdout",
     "output_type": "stream",
     "text": [
      "Content appended to the file successfully.\n"
     ]
    }
   ],
   "source": [
    "#10.write a python code to snippet to append content to a file using bufferd writting.\n",
    "def append_to_file(file_path, content):\n",
    "    try:\n",
    "        with open(file_path, 'a') as file:\n",
    "            file.write(content)\n",
    "            file.flush()  # Flush the buffer to ensure content is written immediately\n",
    "            print(\"Content appended to the file successfully.\")\n",
    "    except IOError as e:\n",
    "        print(f\"Error: {e}\")\n",
    "\n",
    "# Example usage:\n",
    "file_path = \"example.txt\"\n",
    "content_to_append = \"This is some content to append to the file.\"\n",
    "append_to_file(file_path, content_to_append)\n"
   ]
  },
  {
   "cell_type": "code",
   "execution_count": 4,
   "id": "371e7617-6ef2-4a77-b74a-6dd3a1961f6b",
   "metadata": {},
   "outputs": [],
   "source": [
    "#11.write a python function that demonstrate the use of close() method on a file.\n",
    "\n",
    "file = open(\"input.txt\",\"w\")\n",
    "file.write(\"hi this is file handling tutorial\")\n",
    "file.close()"
   ]
  },
  {
   "cell_type": "code",
   "execution_count": 7,
   "id": "e9145415-7e03-4f98-9fd4-e66eea4abc09",
   "metadata": {},
   "outputs": [],
   "source": [
    "#12.write a python function that showcase the detach() method on file object\n",
    "\n"
   ]
  },
  {
   "cell_type": "code",
   "execution_count": 8,
   "id": "8f04038c-6e2d-442e-9221-65d482872d55",
   "metadata": {},
   "outputs": [
    {
     "name": "stdout",
     "output_type": "stream",
     "text": [
      "hi,this is my first line of code\n",
      "this is my second line of code:\n"
     ]
    }
   ],
   "source": [
    "#13.write a python function to demonstrate the use of the seek() method to chnage the file position.\n",
    "file = open(\"file.txt\", 'r')\n",
    "file.seek(0)\n",
    "print(file.read())\n",
    "file.close()"
   ]
  },
  {
   "cell_type": "code",
   "execution_count": 9,
   "id": "54e5bb12-f107-41eb-abeb-f2063fde8b67",
   "metadata": {},
   "outputs": [
    {
     "name": "stdout",
     "output_type": "stream",
     "text": [
      "File descriptor of 'example.txt': 65\n"
     ]
    }
   ],
   "source": [
    "#14.create a python function to return the file descripter (integer number) of a file using fileno() method.\n",
    "def get_file_descriptor(file_path):\n",
    "    try:\n",
    "        # Open the file in read mode\n",
    "        file = open(file_path, 'r')\n",
    "        \n",
    "        # Get the file descriptor\n",
    "        file_descriptor = file.fileno()\n",
    "        \n",
    "        # Close the file\n",
    "        file.close()\n",
    "        \n",
    "        return file_descriptor\n",
    "    except IOError as e:\n",
    "        print(f\"Error: {e}\")\n",
    "        return None\n",
    "\n",
    "# Example usage:\n",
    "file_path = \"example.txt\"\n",
    "fd = get_file_descriptor(file_path)\n",
    "if fd is not None:\n",
    "    print(f\"File descriptor of '{file_path}': {fd}\")\n"
   ]
  },
  {
   "cell_type": "code",
   "execution_count": 12,
   "id": "c0f7c8c4-8c28-42f0-9eef-3f0bcd04e049",
   "metadata": {},
   "outputs": [
    {
     "name": "stdout",
     "output_type": "stream",
     "text": [
      "Current position of 'example.txt': 0\n"
     ]
    }
   ],
   "source": [
    "#15.write a python function to to return the current position of the file's object using the tell() method.\n",
    "def get_current_position(file_path):\n",
    "        # Open the file in read mode\n",
    "        file = open(file_path, 'r')\n",
    "        \n",
    "        # Get the current position\n",
    "        current_position = file.tell()\n",
    "        \n",
    "        # Close the file\n",
    "        file.close()\n",
    "        \n",
    "        return current_position\n",
    "  \n",
    "        print(f\"Error: {e}\")\n",
    "        return None\n",
    "\n",
    "# Example usage:\n",
    "file_path = \"example.txt\"\n",
    "position = get_current_position(file_path)\n",
    "if position is not None:\n",
    "    print(f\"Current position of '{file_path}': {position}\")\n"
   ]
  },
  {
   "cell_type": "code",
   "execution_count": null,
   "id": "baee8bf7-b4f4-4c79-9f03-fe8b9d472bed",
   "metadata": {},
   "outputs": [],
   "source": [
    "#16.create a python program that log a message to a file using the logging module.\n",
    "import logging\n",
    "logging.basicConfig(filename = \"test.log\", level = logging.INFO)\n",
    "logging.info(\"This is my normal information about the software run\")"
   ]
  },
  {
   "cell_type": "code",
   "execution_count": 14,
   "id": "1608dc08-3314-4510-9390-a841abda0706",
   "metadata": {},
   "outputs": [],
   "source": [
    "#17.explain the importance of logging levels in python's logging module.\n",
    "#1.#logging module keep track of events in a software run\n",
    "#2.logging supports different levels of logging which helps to catrgorize messages based on their severity"
   ]
  },
  {
   "cell_type": "markdown",
   "id": "8d6a0dcc-067d-4949-89f8-06dd5510c5c4",
   "metadata": {},
   "source": [
    "  "
   ]
  },
  {
   "cell_type": "code",
   "execution_count": null,
   "id": "d1d9cca6-5060-428e-8630-0aab73ec634e",
   "metadata": {},
   "outputs": [],
   "source": [
    "#19.create a python program that demonstrates setting breakpoints and inspecting variables using the debugger.\n"
   ]
  },
  {
   "cell_type": "markdown",
   "id": "09d91230-a424-461f-9eb4-16417430d29e",
   "metadata": {},
   "source": [
    "# 20.create a python program to that uses the debugger to trace a recursive function.\n",
    "import pdb\n",
    "\n",
    "def factorial(n):\n",
    "    if n == 0:\n",
    "        return 1\n",
    "    else:\n",
    "        # Set a breakpoint before the recursive call\n",
    "        pdb.set_trace()\n",
    "        return n * factorial(n-1)\n",
    "\n",
    "def main():\n",
    "    number = 5\n",
    "    result = factorial(number)\n",
    "    print(f\"Factorial of {number} is {result}\")\n",
    "\n",
    "if __name__ == \"__main__\":\n",
    "    main()\n"
   ]
  },
  {
   "cell_type": "code",
   "execution_count": 3,
   "id": "ebbaa3ff-0c2e-4564-a34e-a49d366b249d",
   "metadata": {},
   "outputs": [
    {
     "name": "stdout",
     "output_type": "stream",
     "text": [
      "zero division error division by zero\n"
     ]
    }
   ],
   "source": [
    "#21.write a try-except block to handle a zerodivision error.\n",
    "try:\n",
    "    5/0\n",
    "except ZeroDivisionError as e:\n",
    "    print(\"zero division error\",e)"
   ]
  },
  {
   "cell_type": "code",
   "execution_count": 6,
   "id": "e0e8d402-20c3-4eef-94fe-4b0c3aa59702",
   "metadata": {},
   "outputs": [
    {
     "name": "stdout",
     "output_type": "stream",
     "text": [
      "if no exception else block will execute only\n"
     ]
    }
   ],
   "source": [
    "#22.how does the else block work with try-except?\n",
    "try:\n",
    "    4/5\n",
    "except Exception as e:\n",
    "    print(\"if any error it will come here\",e)\n",
    "else:\n",
    "    print(\"if no exception else block will execute only\")"
   ]
  },
  {
   "cell_type": "code",
   "execution_count": 7,
   "id": "e97e6e65-11b4-4e23-b695-37d4fb3e656c",
   "metadata": {},
   "outputs": [
    {
     "name": "stdout",
     "output_type": "stream",
     "text": [
      "if no eror else statement execute\n"
     ]
    }
   ],
   "source": [
    "#23.implement a try-except-block to open and read a file.\n",
    "try:\n",
    "    file = open(\"example.txt\",\"w\")\n",
    "    file.write(\"hello\")\n",
    "    \n",
    "except Exception as e:\n",
    "    print(\"if any error it will except here\",e)\n",
    "    \n",
    "else:\n",
    "    print(\"if no eror else statement execute\")"
   ]
  },
  {
   "cell_type": "code",
   "execution_count": 8,
   "id": "c04b01ff-4e56-437e-b3f8-05cfce796eca",
   "metadata": {},
   "outputs": [
    {
     "name": "stdout",
     "output_type": "stream",
     "text": [
      "division by zero\n",
      "it will always execute\n"
     ]
    }
   ],
   "source": [
    "#24.what is purpose of finaly block in exceptional handling.\n",
    "#in finally block if there is any or not it will always execute.\n",
    "\n",
    "try:\n",
    "    8/0\n",
    "    \n",
    "except Exception as e:\n",
    "    print(e)\n",
    "    \n",
    "finally:\n",
    "    print(\"it will always execute\")"
   ]
  },
  {
   "cell_type": "code",
   "execution_count": 12,
   "id": "9bef0f01-0ba6-4661-87b8-85c2dab5504f",
   "metadata": {},
   "outputs": [
    {
     "name": "stdout",
     "output_type": "stream",
     "text": [
      "invalid literal for int() with base 10: 'pw'\n",
      "value error example\n"
     ]
    }
   ],
   "source": [
    "#25.write a try-except-finally block to handle a valueerroe.\n",
    "try:\n",
    "    s = int(\"pw\")\n",
    "    print(s)\n",
    "    \n",
    "except ValueError as e:\n",
    "    print(e)\n",
    "    \n",
    "finally:\n",
    "    print(\"value error example\")"
   ]
  },
  {
   "cell_type": "code",
   "execution_count": 15,
   "id": "716483c6-f773-42d2-83db-28d07b7d02c2",
   "metadata": {},
   "outputs": [
    {
     "name": "stdout",
     "output_type": "stream",
     "text": [
      "My file not found [Errno 2] No such file or directory: 'example1.txt'\n"
     ]
    }
   ],
   "source": [
    "#26.how multiple except blocks work in python?\n",
    "\n",
    "try:\n",
    "    f = open(\"example1.txt\", \"r\")\n",
    "    f.read()\n",
    "except ZeroDivisionError as e:\n",
    "    print(\"first msg\", e)\n",
    "except FileNotFoundError as e:\n",
    "    print(\"My file not found\", e)\n"
   ]
  },
  {
   "cell_type": "code",
   "execution_count": 17,
   "id": "72c8da0f-ddfd-41a3-acf4-b6485a3eac07",
   "metadata": {},
   "outputs": [],
   "source": [
    "#27.what is custom exception in python.\n",
    "# You can define your own exception classes in Python to create custom exceptions.Custom exceptions might \n",
    "# be handy when you want to raise certain issues in your code that are not handled by the built-in exception\n",
    "# classes.\n",
    "\n",
    "# class\"C'stomException(Exception):\n",
    "# pass\n",
    "# try:\n",
    "# #code"
   ]
  },
  {
   "cell_type": "code",
   "execution_count": 18,
   "id": "15eab64b-4ec5-405a-98e3-71f47832bbe1",
   "metadata": {},
   "outputs": [
    {
     "name": "stdout",
     "output_type": "stream",
     "text": [
      "Custom Exception: This is a custom exception message.\n"
     ]
    }
   ],
   "source": [
    "#28.create a custom exception class with a message.\n",
    "class CustomException(Exception):\n",
    "    def __init__(self, message=\"\"):\n",
    "        self.message = message\n",
    "\n",
    "# Example usage:\n",
    "try:\n",
    "    raise CustomException(\"This is a custom exception message.\")\n",
    "except CustomException as e:\n",
    "    print(\"Custom Exception:\", e.message)\n"
   ]
  },
  {
   "cell_type": "code",
   "execution_count": 19,
   "id": "de7dea5f-1bfb-4776-90f1-703e71fb4c58",
   "metadata": {},
   "outputs": [
    {
     "name": "stdout",
     "output_type": "stream",
     "text": [
      "Custom Exception: Input must be an integer.\n"
     ]
    }
   ],
   "source": [
    "#29.write a code to raise a custom exception in python.\n",
    "class CustomException(Exception):\n",
    "    def __init__(self, message=\"\"):\n",
    "        self.message = message\n",
    "\n",
    "def validate_input(value):\n",
    "    if not isinstance(value, int):\n",
    "        raise CustomException(\"Input must be an integer.\")\n",
    "\n",
    "# Example usage:\n",
    "try:\n",
    "    value = \"hello\"\n",
    "    validate_input(value)\n",
    "except CustomException as e:\n",
    "    print(\"Custom Exception:\", e.message)\n"
   ]
  },
  {
   "cell_type": "code",
   "execution_count": 20,
   "id": "ac05cc05-558a-46df-b6fb-3696ff18c14e",
   "metadata": {},
   "outputs": [
    {
     "name": "stdout",
     "output_type": "stream",
     "text": [
      "Custom Exception: Negative value encountered: -5\n"
     ]
    }
   ],
   "source": [
    "#30.write a function that raises a custom exception when a value is negative \n",
    "class NegativeValueError(Exception):\n",
    "    def __init__(self, value):\n",
    "        self.value = value\n",
    "        self.message = f\"Negative value encountered: {self.value}\"\n",
    "\n",
    "def check_positive_value(value):\n",
    "    if value < 0:\n",
    "        raise NegativeValueError(value)\n",
    "\n",
    "# Example usage:\n",
    "try:\n",
    "    value = -5\n",
    "    check_positive_value(value)\n",
    "except NegativeValueError as e:\n",
    "    print(\"Custom Exception:\", e.message)\n"
   ]
  },
  {
   "cell_type": "code",
   "execution_count": 22,
   "id": "c1e763f7-e5ef-429e-8181-44a843196582",
   "metadata": {},
   "outputs": [],
   "source": [
    "#31.what is the role of try,except,else,finaly in handling exceptions.\n",
    "#try:\n",
    "    # Code that may raise exceptions\n",
    "#except SomeException:\n",
    "    # Code to handle exceptions of type SomeException\n",
    "#else:\n",
    "    # Code to be executed if no exceptions are raised in the try block\n",
    "#finally:\n",
    "    # Cleanup code that is always executed, regardless of whether an exception occurs\n"
   ]
  },
  {
   "cell_type": "code",
   "execution_count": 23,
   "id": "127c708c-baa0-4762-9f9c-78e0befb3e0a",
   "metadata": {},
   "outputs": [],
   "source": [
    "#32.how can custom exceptions improve code readability and maintainability\n",
    "\n",
    "# In summary, custom exceptions improve code readability and maintainability in the short term by offering\n",
    "# clearer error messages, centralizing error handling logic, providing self-documenting code, facilitating \n",
    "# debugging, and promoting consistency in error handling practices. These benefits contribute to more efficient\n",
    "# development, debugging, and maintenance processes, especially when dealing with complex or error-prone codebases\n"
   ]
  },
  {
   "cell_type": "code",
   "execution_count": 24,
   "id": "14e6d790-e087-4f55-a845-e955a54f986a",
   "metadata": {},
   "outputs": [],
   "source": [
    "#33.what is multithreading.\n",
    "\n",
    "# Multithreading is a programming technique that allows multiple threads of execution to run concurrently \n",
    "# within a single process. A thread is the smallest unit of execution within a process, and multithreading\n",
    "# enables a program to perform multiple tasks concurrently, thereby improving performance and responsiveness"
   ]
  },
  {
   "cell_type": "code",
   "execution_count": 25,
   "id": "89985dae-a5bd-484e-997f-abdb4f7d2916",
   "metadata": {},
   "outputs": [
    {
     "name": "stdout",
     "output_type": "stream",
     "text": [
      "do something\n",
      "sleep for 1 sec\n",
      "do something\n",
      "sleep for 1 sec\n",
      "done with sleeping\n",
      "done with sleeping\n",
      "The program finished in 1.0 seconds.\n"
     ]
    }
   ],
   "source": [
    "#34.create a thread in pyhton.\n",
    "import time\n",
    "import threading\n",
    "start = time.perf_counter()\n",
    "\n",
    "def test_func():\n",
    "    print(\"do something\")\n",
    "    print(\"sleep for 1 sec\")\n",
    "    time.sleep(1)\n",
    "    print(\"done with sleeping\")\n",
    "\n",
    "t1 = threading.Thread(target = test_func)\n",
    "t2 = threading.Thread(target = test_func)\n",
    "\n",
    "t1.start() #to start the thread\n",
    "t2.start()\n",
    "\n",
    "t1.join() #in order to first execute the threads and then the execition of main program\n",
    "t2.join()\n",
    "\n",
    "\n",
    "end = time.perf_counter()\n",
    "\n",
    "\n",
    "print(f\"The program finished in {round(end-start, 2)} seconds.\")"
   ]
  },
  {
   "cell_type": "code",
   "execution_count": 26,
   "id": "6dc4fa0c-d188-4b68-8fa4-a46993758754",
   "metadata": {},
   "outputs": [],
   "source": [
    "#35.what is GIL in python\n",
    "\n",
    "\n",
    "# It seems like you're referring to the Global Interpreter Lock (GIL) in Python. The Global Interpreter Lock is a\n",
    "# mutex (or a lock) that protects access to Python objects, preventing multiple native threads from executing\n",
    "# Python bytecodes simultaneously. In other words, it ensures that only one thread executes Python bytecode at\n",
    "# a time, even on multi-core systems"
   ]
  },
  {
   "cell_type": "code",
   "execution_count": 27,
   "id": "e46485ef-a488-4d14-8bcf-f24d3a1bc797",
   "metadata": {},
   "outputs": [
    {
     "name": "stdout",
     "output_type": "stream",
     "text": [
      "do something\n",
      "sleep for 1 sec\n",
      "do something\n",
      "sleep for 1 sec\n",
      "do something\n",
      "sleep for 1 sec\n",
      "do something\n",
      "sleep for 1 sec\n",
      "do something\n",
      "sleep for 1 sec\n",
      "do something\n",
      "sleep for 1 sec\n",
      "do something\n",
      "sleep for 1 sec\n",
      "do something\n",
      "sleep for 1 sec\n",
      "do something\n",
      "sleep for 1 sec\n",
      "do something\n",
      "sleep for 1 sec\n",
      "done with sleeping\n",
      "done with sleeping\n",
      "done with sleeping\n",
      "done with sleeping\n",
      "done with sleeping\n",
      "done with sleeping\n",
      "done with sleeping\n",
      "done with sleeping\n",
      "done with sleeping\n",
      "done with sleeping\n",
      "The program finished in 1.0 seconds.\n"
     ]
    }
   ],
   "source": [
    "#36.implement a simple multithreading example in python?\n",
    "import time\n",
    "import threading\n",
    "start = time.perf_counter()\n",
    "\n",
    "def test_func():\n",
    "    print(\"do something\")\n",
    "    print(\"sleep for 1 sec\")\n",
    "    time.sleep(1)\n",
    "    print(\"done with sleeping\")\n",
    "\n",
    "threads = []\n",
    "for i in range(10):\n",
    "    t = threading.Thread(target = test_func)\n",
    "    t.start()\n",
    "    threads.append(t)\n",
    "\n",
    "for thread in threads:\n",
    "    thread.join()\n",
    "    \n",
    "\n",
    "\n",
    "end = time.perf_counter()\n",
    "\n",
    "\n",
    "print(f\"The program finished in {round(end-start, 2)} seconds.\")"
   ]
  },
  {
   "cell_type": "code",
   "execution_count": 28,
   "id": "5a019533-8cf9-4ba6-82e1-0724d552bd6b",
   "metadata": {},
   "outputs": [],
   "source": [
    "#37.what is the purpose of join() in multithreading.\n",
    "\n",
    "\n",
    "# In multithreading, the join() method is used to synchronize the execution of multiple threads.\n",
    "# When you call join() on a thread, the calling thread (typically the main thread) waits for the \n",
    "# specified thread to complete its execution before proceeding furthe.\n",
    "\n",
    "# The main purpose of join() is to ensure that all the spawned threads complete their execution before the\n",
    "# program exits or before the main thread continues its execution. This is particularly useful when the main\n",
    "# thread needs the results or side effects of the other threads' work before proceeding"
   ]
  },
  {
   "cell_type": "code",
   "execution_count": 29,
   "id": "a7aaf21f-d707-4f08-bd09-5afeb3628082",
   "metadata": {},
   "outputs": [],
   "source": [
    "#38.describe a scenirio where multithreading would be benificil in python.\n",
    "\n",
    "\n",
    "# One scenario where multithreading can be beneficial in Python is in a web server application that handles\n",
    "# multiple client requests concurrently.\n",
    "\n",
    "# Consider a web server that receives HTTP requests from clients and serves dynamic content by processing\n",
    "# database queries, file I/O operations, or other resource-intensive tasks. In such a scenario, each client\n",
    "# request can be handled by a separate thread, allowing the server to serve multiple clients simultaneously\n",
    "# without blocking other clients from accessing the server."
   ]
  },
  {
   "cell_type": "code",
   "execution_count": 30,
   "id": "c11fffd6-8ad3-415d-acbf-ed1f9c6fa0b3",
   "metadata": {},
   "outputs": [],
   "source": [
    "#39.what is multiprocessing in python.\n",
    "\n",
    "\n",
    "# Multiprocessing in Python refers to the technique of creating and executing multiple processes to perform\n",
    "# concurrent tasks. Unlike multithreading, which involves running multiple threads within a single process,\n",
    "# multiprocessing allows multiple processes to run independently and concurrently"
   ]
  },
  {
   "cell_type": "code",
   "execution_count": 31,
   "id": "f219699d-adfe-428c-9872-a3837eacd6df",
   "metadata": {},
   "outputs": [],
   "source": [
    "#40.how is multiprocessing is different from multithrading in python.\n",
    "#1.Concurrency Model\n",
    "#2.parallelism\n",
    "#3.Resource Isolation\n",
    "#4.ipc"
   ]
  },
  {
   "cell_type": "code",
   "execution_count": 32,
   "id": "4c1e9231-d36c-494f-b890-2254435a4c58",
   "metadata": {},
   "outputs": [
    {
     "name": "stdout",
     "output_type": "stream",
     "text": [
      "Worker 1 is running\n",
      "Main process continues...\n"
     ]
    }
   ],
   "source": [
    "#41.create a process using the multiprocessing module in python?\n",
    "import multiprocessing\n",
    "\n",
    "def worker(number):\n",
    "    \"\"\"Function to be executed by the process\"\"\"\n",
    "    print(f\"Worker {number} is running\")\n",
    "\n",
    "if __name__ == \"__main__\":\n",
    "    # Create a new process\n",
    "    process = multiprocessing.Process(target=worker, args=(1,))\n",
    "\n",
    "    # Start the process\n",
    "    process.start()\n",
    "\n",
    "    # Wait for the process to complete\n",
    "    process.join()\n",
    "\n",
    "    print(\"Main process continues...\")\n",
    "\n"
   ]
  },
  {
   "cell_type": "code",
   "execution_count": 33,
   "id": "72678245-baa8-4f1e-a6f4-9cc1400865f1",
   "metadata": {},
   "outputs": [],
   "source": [
    "#42.explain the concept of pool in multiprocessing.\n",
    "\n",
    "\n",
    "# The Pool class in Python's multiprocessing module provides a convenient way to manage a pool of worker processes\n",
    "# . It allows you to parallelize the execution of a function across multiple input values, distributing the \n",
    "# input data across the pool of processes and collecting the results"
   ]
  },
  {
   "cell_type": "code",
   "execution_count": 34,
   "id": "4894980a-cb43-4cfb-bc7e-7356855c06e0",
   "metadata": {},
   "outputs": [],
   "source": [
    "#43.explain inter-process communication in multithreading\n",
    "\n",
    "# Inter-process communication (IPC) in the context of multithreading (typically referred to as inter-thread\n",
    "# communication) involves mechanisms that allow threads within the same process to communicate and synchronize \n",
    "# with each other. Unlike IPC, which is used for communication between separate processes, inter-thread \n",
    "# communication leverages shared memory because threads within the same process share the same address space"
   ]
  },
  {
   "cell_type": "code",
   "execution_count": null,
   "id": "9276cf01-3a9d-47ac-a071-1350db7b9301",
   "metadata": {},
   "outputs": [],
   "source": []
  }
 ],
 "metadata": {
  "kernelspec": {
   "display_name": "Python 3 (ipykernel)",
   "language": "python",
   "name": "python3"
  },
  "language_info": {
   "codemirror_mode": {
    "name": "ipython",
    "version": 3
   },
   "file_extension": ".py",
   "mimetype": "text/x-python",
   "name": "python",
   "nbconvert_exporter": "python",
   "pygments_lexer": "ipython3",
   "version": "3.10.8"
  }
 },
 "nbformat": 4,
 "nbformat_minor": 5
}
